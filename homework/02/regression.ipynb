{
 "cells": [
  {
   "cell_type": "markdown",
   "id": "1da09056-bcce-4cdc-b166-c4e4001ded0c",
   "metadata": {},
   "source": [
    "# Homework 02 - Regression\n",
    "The goal of this homework is to create a regression model for predicting the car fuel efficiency."
   ]
  },
  {
   "cell_type": "code",
   "execution_count": 1,
   "id": "f39fecb0-e4df-4260-a892-de3cab8ec518",
   "metadata": {},
   "outputs": [],
   "source": [
    "import pandas as pd\n",
    "import numpy as np\n",
    "import matplotlib.pyplot as plt\n",
    "import seaborn as sns\n",
    "\n",
    "%matplotlib inline"
   ]
  },
  {
   "cell_type": "markdown",
   "id": "6390beee-1520-4a69-8eca-7671e8e0b8c6",
   "metadata": {},
   "source": [
    "## Dataset\n",
    "This homework will use the Car Fuel Efficiency dataset.\n",
    "Use only the following columns:\n",
    " - `engine_displacement`\n",
    " - `horsepower`\n",
    " - `vehicle_weight`\n",
    " - `model_year`\n",
    " - `fuel_efficiency_mpg`"
   ]
  },
  {
   "cell_type": "code",
   "execution_count": 2,
   "id": "55df7878-2567-48d7-b986-9f3c09b15624",
   "metadata": {},
   "outputs": [
    {
     "data": {
      "text/html": [
       "<div>\n",
       "<style scoped>\n",
       "    .dataframe tbody tr th:only-of-type {\n",
       "        vertical-align: middle;\n",
       "    }\n",
       "\n",
       "    .dataframe tbody tr th {\n",
       "        vertical-align: top;\n",
       "    }\n",
       "\n",
       "    .dataframe thead th {\n",
       "        text-align: right;\n",
       "    }\n",
       "</style>\n",
       "<table border=\"1\" class=\"dataframe\">\n",
       "  <thead>\n",
       "    <tr style=\"text-align: right;\">\n",
       "      <th></th>\n",
       "      <th>engine_displacement</th>\n",
       "      <th>num_cylinders</th>\n",
       "      <th>horsepower</th>\n",
       "      <th>vehicle_weight</th>\n",
       "      <th>acceleration</th>\n",
       "      <th>model_year</th>\n",
       "      <th>origin</th>\n",
       "      <th>fuel_type</th>\n",
       "      <th>drivetrain</th>\n",
       "      <th>num_doors</th>\n",
       "      <th>fuel_efficiency_mpg</th>\n",
       "    </tr>\n",
       "  </thead>\n",
       "  <tbody>\n",
       "    <tr>\n",
       "      <th>0</th>\n",
       "      <td>170</td>\n",
       "      <td>3.0</td>\n",
       "      <td>159.0</td>\n",
       "      <td>3413.433759</td>\n",
       "      <td>17.7</td>\n",
       "      <td>2003</td>\n",
       "      <td>Europe</td>\n",
       "      <td>Gasoline</td>\n",
       "      <td>All-wheel drive</td>\n",
       "      <td>0.0</td>\n",
       "      <td>13.231729</td>\n",
       "    </tr>\n",
       "    <tr>\n",
       "      <th>1</th>\n",
       "      <td>130</td>\n",
       "      <td>5.0</td>\n",
       "      <td>97.0</td>\n",
       "      <td>3149.664934</td>\n",
       "      <td>17.8</td>\n",
       "      <td>2007</td>\n",
       "      <td>USA</td>\n",
       "      <td>Gasoline</td>\n",
       "      <td>Front-wheel drive</td>\n",
       "      <td>0.0</td>\n",
       "      <td>13.688217</td>\n",
       "    </tr>\n",
       "    <tr>\n",
       "      <th>2</th>\n",
       "      <td>170</td>\n",
       "      <td>NaN</td>\n",
       "      <td>78.0</td>\n",
       "      <td>3079.038997</td>\n",
       "      <td>15.1</td>\n",
       "      <td>2018</td>\n",
       "      <td>Europe</td>\n",
       "      <td>Gasoline</td>\n",
       "      <td>Front-wheel drive</td>\n",
       "      <td>0.0</td>\n",
       "      <td>14.246341</td>\n",
       "    </tr>\n",
       "    <tr>\n",
       "      <th>3</th>\n",
       "      <td>220</td>\n",
       "      <td>4.0</td>\n",
       "      <td>NaN</td>\n",
       "      <td>2542.392402</td>\n",
       "      <td>20.2</td>\n",
       "      <td>2009</td>\n",
       "      <td>USA</td>\n",
       "      <td>Diesel</td>\n",
       "      <td>All-wheel drive</td>\n",
       "      <td>2.0</td>\n",
       "      <td>16.912736</td>\n",
       "    </tr>\n",
       "    <tr>\n",
       "      <th>4</th>\n",
       "      <td>210</td>\n",
       "      <td>1.0</td>\n",
       "      <td>140.0</td>\n",
       "      <td>3460.870990</td>\n",
       "      <td>14.4</td>\n",
       "      <td>2009</td>\n",
       "      <td>Europe</td>\n",
       "      <td>Gasoline</td>\n",
       "      <td>All-wheel drive</td>\n",
       "      <td>2.0</td>\n",
       "      <td>12.488369</td>\n",
       "    </tr>\n",
       "  </tbody>\n",
       "</table>\n",
       "</div>"
      ],
      "text/plain": [
       "   engine_displacement  num_cylinders  horsepower  vehicle_weight  \\\n",
       "0                  170            3.0       159.0     3413.433759   \n",
       "1                  130            5.0        97.0     3149.664934   \n",
       "2                  170            NaN        78.0     3079.038997   \n",
       "3                  220            4.0         NaN     2542.392402   \n",
       "4                  210            1.0       140.0     3460.870990   \n",
       "\n",
       "   acceleration  model_year  origin fuel_type         drivetrain  num_doors  \\\n",
       "0          17.7        2003  Europe  Gasoline    All-wheel drive        0.0   \n",
       "1          17.8        2007     USA  Gasoline  Front-wheel drive        0.0   \n",
       "2          15.1        2018  Europe  Gasoline  Front-wheel drive        0.0   \n",
       "3          20.2        2009     USA    Diesel    All-wheel drive        2.0   \n",
       "4          14.4        2009  Europe  Gasoline    All-wheel drive        2.0   \n",
       "\n",
       "   fuel_efficiency_mpg  \n",
       "0            13.231729  \n",
       "1            13.688217  \n",
       "2            14.246341  \n",
       "3            16.912736  \n",
       "4            12.488369  "
      ]
     },
     "execution_count": 2,
     "metadata": {},
     "output_type": "execute_result"
    }
   ],
   "source": [
    "cfe_url = \"https://raw.githubusercontent.com/alexeygrigorev/datasets/master/car_fuel_efficiency.csv\"\n",
    "cfe_df = pd.read_csv(cfe_url)\n",
    "cfe_df.columns = cfe_df.columns.str.lower().str.replace(' ', '_')\n",
    "cfe_df.head()"
   ]
  },
  {
   "cell_type": "code",
   "execution_count": 3,
   "id": "b8a1da22-dc31-4021-b5e2-766a7ff87ea1",
   "metadata": {},
   "outputs": [
    {
     "data": {
      "text/plain": [
       "<Axes: xlabel='fuel_efficiency_mpg', ylabel='Count'>"
      ]
     },
     "execution_count": 3,
     "metadata": {},
     "output_type": "execute_result"
    },
    {
     "data": {
      "image/png": "[encoded data removed]",
      "text/plain": [
       "<Figure size 640x480 with 1 Axes>"
      ]
     },
     "metadata": {},
     "output_type": "display_data"
    }
   ],
   "source": [
    "sns.histplot(cfe_df.fuel_efficiency_mpg)"
   ]
  },
  {
   "cell_type": "markdown",
   "id": "5d6a473d-49e4-4964-ba8a-55bcb16bb897",
   "metadata": {},
   "source": [
    "## Question 1:\n",
    "Which column has missing values?"
   ]
  },
  {
   "cell_type": "code",
   "execution_count": 4,
   "id": "2e591b1a-d83b-46d1-8f30-0631f149627d",
   "metadata": {},
   "outputs": [
    {
     "data": {
      "text/plain": [
       "engine_displacement      0\n",
       "horsepower             708\n",
       "vehicle_weight           0\n",
       "model_year               0\n",
       "fuel_efficiency_mpg      0\n",
       "dtype: int64"
      ]
     },
     "execution_count": 4,
     "metadata": {},
     "output_type": "execute_result"
    }
   ],
   "source": [
    "cfe_df[['engine_displacement', 'horsepower', 'vehicle_weight', 'model_year', 'fuel_efficiency_mpg']].isnull().sum()"
   ]
  },
  {
   "cell_type": "markdown",
   "id": "7f98f621-02c6-4568-85b6-f15c60ef3327",
   "metadata": {},
   "source": [
    "## Question 2\n",
    "What's the median `horsepower`?"
   ]
  },
  {
   "cell_type": "code",
   "execution_count": 5,
   "id": "98d92b8a-3e92-41ed-ab0d-a56c6e38da7d",
   "metadata": {},
   "outputs": [
    {
     "name": "stdout",
     "output_type": "stream",
     "text": [
      "149.0\n"
     ]
    }
   ],
   "source": [
    "print(cfe_df.horsepower.median())"
   ]
  },
  {
   "cell_type": "markdown",
   "id": "82e0a100-f785-427a-960d-ad61c8aebcdb",
   "metadata": {},
   "source": [
    "## Prepare the dataset\n",
    "- Shuffle the data (use seed `42`)\n",
    "- Split the data into train, val, and test sets (60/20/20 split)"
   ]
  },
  {
   "cell_type": "code",
   "execution_count": 6,
   "id": "670ab508-590f-4e57-9f53-8a2ad1771271",
   "metadata": {},
   "outputs": [],
   "source": [
    "def prepare_dataset(df, idx_seed):\n",
    "    n = len(df)\n",
    "    n_val = int(n * 0.2)\n",
    "    # val and test buckets are the same size\n",
    "    n_train = n - n_val - n_val\n",
    "\n",
    "    idx = np.arange(n)\n",
    "    np.random.seed(idx_seed)\n",
    "    np.random.shuffle(idx)\n",
    "\n",
    "    train_df = df.iloc[idx[:n_train]].reset_index(drop=True)\n",
    "    val_df = df.iloc[idx[n_train:n_train + n_val]].reset_index(drop=True)\n",
    "    test_df = df.iloc[idx[n_train + n_val:]].reset_index(drop=True)\n",
    "\n",
    "    return train_df, val_df, test_df\n"
   ]
  },
  {
   "cell_type": "code",
   "execution_count": 7,
   "id": "da72efaa-54e4-456e-bb3f-854e307ef298",
   "metadata": {},
   "outputs": [
    {
     "data": {
      "text/plain": [
       "(9704, 5824, 1940, 1940, True)"
      ]
     },
     "execution_count": 7,
     "metadata": {},
     "output_type": "execute_result"
    }
   ],
   "source": [
    "train_df, val_df, test_df = prepare_dataset(cfe_df, 42)\n",
    "\n",
    "(len(cfe_df), len(train_df), len(val_df), len(test_df), len(cfe_df) == (len(train_df) + len(val_df) + len(test_df)))"
   ]
  },
  {
   "cell_type": "markdown",
   "id": "fb137416-8e18-4be6-bef4-862ee6748aec",
   "metadata": {},
   "source": [
    "## Train the model"
   ]
  },
  {
   "cell_type": "code",
   "execution_count": 8,
   "id": "912a1103-f7d0-424e-bbd3-7f5108d02ff7",
   "metadata": {},
   "outputs": [],
   "source": [
    "def train_linear_regression(X, y, r):\n",
    "    ones = np.ones(X.shape[0])\n",
    "    _X = np.column_stack([ones, X])\n",
    "\n",
    "    XTX = _X.T @ _X\n",
    "    XTX_r = XTX + r * np.eye(XTX.shape[0])\n",
    "    XTX_inv = np.linalg.inv(XTX_r)\n",
    "    w_full = (XTX_inv @ _X.T) @ y\n",
    "\n",
    "    return w_full[0], w_full[1:]"
   ]
  },
  {
   "cell_type": "code",
   "execution_count": 9,
   "id": "13e8b849-ab22-4b4f-8243-2c23faeb9df3",
   "metadata": {},
   "outputs": [],
   "source": [
    "def rmse(y, y_pred):\n",
    "    err = y_pred - y\n",
    "    sqrd_err = err ** 2\n",
    "    mean_sqrd_err = sqrd_err.mean()\n",
    "    return np.sqrt(mean_sqrd_err)"
   ]
  },
  {
   "cell_type": "code",
   "execution_count": 10,
   "id": "6c1d77e0-b81f-43d1-99e8-93d2b1ef0de0",
   "metadata": {},
   "outputs": [],
   "source": [
    "def prepare_X(df, fillna):\n",
    "    result = pd.DataFrame()\n",
    "    \n",
    "    features = [\n",
    "        'engine_displacement',\n",
    "        'horsepower',\n",
    "        'vehicle_weight',\n",
    "        'model_year'\n",
    "    ]\n",
    "\n",
    "    for col in features:\n",
    "        if col in fillna:\n",
    "            result[col] = df[col].fillna(fillna[col])\n",
    "        else:\n",
    "            result[col] = df[col].fillna(0)\n",
    "    \n",
    "    return result.values"
   ]
  },
  {
   "cell_type": "code",
   "execution_count": 11,
   "id": "2263d28b-9092-4cad-b83b-9a4d5683c247",
   "metadata": {},
   "outputs": [],
   "source": [
    "def train_and_test(df, fillna={}, r=0, idx_seed=42, graph=False, test=False):\n",
    "    t_df, v_df, test_df = prepare_dataset(df, idx_seed)\n",
    "\n",
    "    if test:\n",
    "        train_df = pd.concat([t_df, v_df])\n",
    "        train_df.reset_index(drop=True)\n",
    "        val_df = test_df\n",
    "    else:\n",
    "        train_df = t_df\n",
    "        val_df = v_df\n",
    "    \n",
    "    train_X = prepare_X(train_df, fillna)\n",
    "    train_y = train_df.fuel_efficiency_mpg.values\n",
    "    \n",
    "    val_X = prepare_X(val_df, fillna)\n",
    "    val_y = val_df.fuel_efficiency_mpg.values\n",
    "\n",
    "    w0, w = train_linear_regression(train_X, train_y, r)\n",
    "\n",
    "    pred_y = w0 + (val_X @ w)\n",
    "    if graph == True:\n",
    "        sns.histplot(pred_y, label=\"prediction\", color=\"red\", alpha=0.5, bins=50)\n",
    "        sns.histplot(val_y, label=\"target\", color=\"blue\", alpha=0.5, bins=50)\n",
    "        plt.legend()\n",
    "    \n",
    "    return rmse(val_y, pred_y)"
   ]
  },
  {
   "cell_type": "markdown",
   "id": "7fe5d3a7-d1f2-4eb7-9776-15eb07501ee1",
   "metadata": {},
   "source": [
    "## Question 3\n",
    "We need to deal with the missing values for the `horsepower` column.\n",
    "We can either:\n",
    "- Replace missing values with `0`, or\n",
    "- replace missing values with the `mean` of `horsepower`\n",
    "\n",
    "Which option gives a better RMSE?"
   ]
  },
  {
   "cell_type": "code",
   "execution_count": 12,
   "id": "708d0170-ee70-4870-a065-701cd450dbf8",
   "metadata": {},
   "outputs": [
    {
     "name": "stdout",
     "output_type": "stream",
     "text": [
      "nan=0, rmse=0.5174; nan=mean, rmse=0.4636\n"
     ]
    }
   ],
   "source": [
    "score_fillna_0 = train_and_test(cfe_df)\n",
    "\n",
    "means = { \"horsepower\": train_df[\"horsepower\"].mean() }\n",
    "score_fillna_mean = train_and_test(cfe_df, fillna=means)\n",
    "\n",
    "print(f\"nan=0, rmse={round(score_fillna_0, 4)}; nan=mean, rmse={round(score_fillna_mean, 4)}\")"
   ]
  },
  {
   "cell_type": "markdown",
   "id": "cf4c61e0-203a-49b1-85de-26a965eb12e8",
   "metadata": {},
   "source": [
    "## Question 4\n",
    "Using fillna=0 and regularization, which value of `r` gives the best RMSE?"
   ]
  },
  {
   "cell_type": "code",
   "execution_count": 13,
   "id": "c98f2839-3b0d-4452-acf2-da754b911dfb",
   "metadata": {},
   "outputs": [
    {
     "name": "stdout",
     "output_type": "stream",
     "text": [
      "Findings: \n",
      "  0\t0.5174\n",
      "  0.01\t0.5171\n",
      "  0.1\t0.5188\n",
      "  1\t0.5222\n",
      "  5\t0.5229\n",
      "  10\t0.523\n",
      "  100\t0.5231\n"
     ]
    }
   ],
   "source": [
    "regularizations = [0, 0.01, 0.1, 1, 5, 10, 100]\n",
    "result = \"Findings: \"\n",
    "for r in regularizations:\n",
    "    score = train_and_test(cfe_df, r=r)\n",
    "    result += f\"\\n  {r}\\t{round(score, 4)}\"\n",
    "\n",
    "print(result)"
   ]
  },
  {
   "cell_type": "markdown",
   "id": "a1540383-ed63-49aa-9c3a-1bdb830a2bb8",
   "metadata": {},
   "source": [
    "## Question 5\n",
    "How does the seed value of `42` influence our scores?  Using fillna=0 and regularization=0, calculate the standard deviation of the RMSE scores."
   ]
  },
  {
   "cell_type": "code",
   "execution_count": 14,
   "id": "68963286-5265-42c2-9056-2c9086e9cc9b",
   "metadata": {},
   "outputs": [
    {
     "name": "stdout",
     "output_type": "stream",
     "text": [
      "0.007\n"
     ]
    }
   ],
   "source": [
    "rmse_scores = []\n",
    "for seed in range(10):\n",
    "    rmse_scores.append(train_and_test(cfe_df, idx_seed=seed))\n",
    "print(round(np.std(rmse_scores), 4))"
   ]
  },
  {
   "cell_type": "markdown",
   "id": "eb282a55-31c7-4808-b894-fe11cb98c336",
   "metadata": {},
   "source": [
    "## Question 6\n",
    "Continue testing by combining the train and validation dadtasets.  What is the RMSE on the test dataset?  Use seed=9, fillna=0, and regularization-0.001."
   ]
  },
  {
   "cell_type": "code",
   "execution_count": 15,
   "id": "a506be9c-fb52-47aa-a250-965a1b3cfdea",
   "metadata": {},
   "outputs": [
    {
     "name": "stdout",
     "output_type": "stream",
     "text": [
      "0.5156\n"
     ]
    },
    {
     "data": {
      "image/png": "[encoded data removed]",
      "text/plain": [
       "<Figure size 640x480 with 1 Axes>"
      ]
     },
     "metadata": {},
     "output_type": "display_data"
    }
   ],
   "source": [
    "rmse_score = train_and_test(cfe_df, r=0.001, idx_seed=9, test=True, graph=True)\n",
    "print(round(rmse_score, 4))"
   ]
  },
  {
   "cell_type": "code",
   "execution_count": null,
   "id": "0ca98301-c4cc-4ee7-ad11-84110257cb27",
   "metadata": {},
   "outputs": [],
   "source": []
  }
 ],
 "metadata": {
  "kernelspec": {
   "display_name": "Python 3 (ipykernel)",
   "language": "python",
   "name": "python3"
  },
  "language_info": {
   "codemirror_mode": {
    "name": "ipython",
    "version": 3
   },
   "file_extension": ".py",
   "mimetype": "text/x-python",
   "name": "python",
   "nbconvert_exporter": "python",
   "pygments_lexer": "ipython3",
   "version": "3.13.7"
  }
 },
 "nbformat": 4,
 "nbformat_minor": 5
}
