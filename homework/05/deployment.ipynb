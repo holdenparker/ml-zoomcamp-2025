{
 "cells": [
  {
   "cell_type": "markdown",
   "id": "bc27eec0-5930-4a2b-852a-db4813ec9df9",
   "metadata": {},
   "source": [
    "# Homework 5 - Deployment\n",
    "The goal of this homework is to host the prediction service in a docker container."
   ]
  },
  {
   "cell_type": "markdown",
   "id": "6289ce3d-2e2c-4412-8726-efd28c6fb18e",
   "metadata": {},
   "source": [
    "## Question 1:\n",
    "What version of `pipenv` is installed?"
   ]
  },
  {
   "cell_type": "code",
   "execution_count": 1,
   "id": "428e3fba-d394-4c56-80ac-0454dfd1315b",
   "metadata": {},
   "outputs": [
    {
     "name": "stdout",
     "output_type": "stream",
     "text": [
      "uv 0.9.5\n"
     ]
    }
   ],
   "source": [
    "# I've installed uv using the requirements.txt file\n",
    "# in the docker container hosting my jupyter notebook\n",
    "!uv --version"
   ]
  },
  {
   "cell_type": "markdown",
   "id": "448e54f8-0042-490b-896a-5e8454e8cfe6",
   "metadata": {},
   "source": [
    "## Question 2:\n",
    "What's the first hash for scikit-learn in `Pipfile.lock`?"
   ]
  },
  {
   "cell_type": "code",
   "execution_count": 2,
   "id": "6114ba5e-5272-46d6-9ec4-dbe4c2bf4a4b",
   "metadata": {},
   "outputs": [
    {
     "name": "stdout",
     "output_type": "stream",
     "text": [
      "Initialized project `\u001b[36m05\u001b[39m`\n",
      "Using CPython 3.13.7 interpreter at: \u001b[36m/opt/conda/bin/python3\u001b[39m\n",
      "Creating virtual environment at: \u001b[36m.venv\u001b[39m\n",
      "\u001b[2K\u001b[2mResolved \u001b[1m6 packages\u001b[0m \u001b[2min 790ms\u001b[0m\u001b[0m                                         \u001b[0m\n",
      "\u001b[2K\u001b[2mPrepared \u001b[1m5 packages\u001b[0m \u001b[2min 2.86s\u001b[0m\u001b[0m                                             \n",
      "\u001b[2K░░░░░░░░░░░░░░░░░░░░ [0/5] \u001b[2mInstalling wheels...                                 \u001b[0m\u001b[1m\u001b[33mwarning\u001b[39m\u001b[0m\u001b[1m:\u001b[0m \u001b[1mFailed to hardlink files; falling back to full copy. This may lead to degraded performance.\n",
      "         If the cache and target directories are on different filesystems, hardlinking may not be supported.\n",
      "         If this is intentional, set `export UV_LINK_MODE=copy` or use `--link-mode=copy` to suppress this warning.\u001b[0m\n",
      "\u001b[2K\u001b[2mInstalled \u001b[1m5 packages\u001b[0m \u001b[2min 4.30s\u001b[0m\u001b[0m                               \u001b[0m\n",
      " \u001b[32m+\u001b[39m \u001b[1mjoblib\u001b[0m\u001b[2m==1.5.2\u001b[0m\n",
      " \u001b[32m+\u001b[39m \u001b[1mnumpy\u001b[0m\u001b[2m==2.3.4\u001b[0m\n",
      " \u001b[32m+\u001b[39m \u001b[1mscikit-learn\u001b[0m\u001b[2m==1.6.1\u001b[0m\n",
      " \u001b[32m+\u001b[39m \u001b[1mscipy\u001b[0m\u001b[2m==1.16.3\u001b[0m\n",
      " \u001b[32m+\u001b[39m \u001b[1mthreadpoolctl\u001b[0m\u001b[2m==3.6.0\u001b[0m\n"
     ]
    }
   ],
   "source": [
    "# I will only run this once, since the lockfile will be committed\n",
    "#!uv init\n",
    "#!uv add scikit-learn==1.6.1"
   ]
  },
  {
   "cell_type": "code",
   "execution_count": 9,
   "id": "2ea0aa52-2cfd-41b1-aa49-8233746e53d3",
   "metadata": {},
   "outputs": [
    {
     "name": "stdout",
     "output_type": "stream",
     "text": [
      "1\n",
      "sha256:b4fc2525eca2c69a59260f583c56a7557c6ccdf8deafdba6e060f94c1c59738e\n"
     ]
    }
   ],
   "source": [
    "import tomllib\n",
    "with open('uv.lock', 'rb') as f:\n",
    "    data = tomllib.load(f)\n",
    "    scikit_learn_pkg = [pkg for pkg in data['package'] if pkg['name'] == 'scikit-learn']\n",
    "    print(len(scikit_learn_pkg))\n",
    "    print(scikit_learn_pkg[0]['sdist']['hash'])"
   ]
  },
  {
   "cell_type": "markdown",
   "id": "52852fdb-fe3a-4ee1-9e5d-ed18a457d1b6",
   "metadata": {},
   "source": [
    "## Models\n",
    "Download the models that were prepared for this homework."
   ]
  },
  {
   "cell_type": "code",
   "execution_count": 10,
   "id": "c1d83ac1-8d99-4bb8-b14f-c13241d541dc",
   "metadata": {},
   "outputs": [
    {
     "name": "stdout",
     "output_type": "stream",
     "text": [
      "--2025-10-29 10:28:55--  https://github.com/DataTalksClub/machine-learning-zoomcamp/raw/refs/heads/master/cohorts/2025/05-deployment/pipeline_v1.bin\n",
      "Resolving github.com (github.com)... 140.82.112.4\n",
      "Connecting to github.com (github.com)|140.82.112.4|:443... connected.\n",
      "HTTP request sent, awaiting response... 302 Found\n",
      "Location: https://raw.githubusercontent.com/DataTalksClub/machine-learning-zoomcamp/refs/heads/master/cohorts/2025/05-deployment/pipeline_v1.bin [following]\n",
      "--2025-10-29 10:28:56--  https://raw.githubusercontent.com/DataTalksClub/machine-learning-zoomcamp/refs/heads/master/cohorts/2025/05-deployment/pipeline_v1.bin\n",
      "Resolving raw.githubusercontent.com (raw.githubusercontent.com)... 185.199.108.133, 185.199.109.133, 185.199.111.133, ...\n",
      "Connecting to raw.githubusercontent.com (raw.githubusercontent.com)|185.199.108.133|:443... connected.\n",
      "HTTP request sent, awaiting response... 200 OK\n",
      "Length: 1300 (1.3K) [application/octet-stream]\n",
      "Saving to: ‘pipeline_v1.bin’\n",
      "\n",
      "pipeline_v1.bin     100%[===================>]   1.27K  --.-KB/s    in 0s      \n",
      "\n",
      "2025-10-29 10:28:56 (3.07 MB/s) - ‘pipeline_v1.bin’ saved [1300/1300]\n",
      "\n"
     ]
    }
   ],
   "source": [
    "#!wget https://github.com/DataTalksClub/machine-learning-zoomcamp/raw/refs/heads/master/cohorts/2025/05-deployment/pipeline_v1.bin"
   ]
  },
  {
   "cell_type": "code",
   "execution_count": 12,
   "id": "a4720e80-305d-49e0-b7f4-0f8765d9aa9c",
   "metadata": {},
   "outputs": [
    {
     "name": "stdout",
     "output_type": "stream",
     "text": [
      "7d17d2e4dfbaf1e408e1a62e6e880d49  pipeline_v1.bin\n"
     ]
    }
   ],
   "source": [
    "!md5sum pipeline_v1.bin"
   ]
  },
  {
   "cell_type": "markdown",
   "id": "f179c535-e7f1-436b-920f-0ee002134329",
   "metadata": {},
   "source": [
    "## Question 3\n",
    "Using pickle to unpack the provided model, what's the probability that this lead will convert?\n",
    "```json\n",
    "{\n",
    "    \"lead_source\": \"paid_ads\",\n",
    "    \"number_of_courses_viewed\": 2,\n",
    "    \"annual_income\": 79276.0\n",
    "}\n",
    "```"
   ]
  },
  {
   "cell_type": "code",
   "execution_count": 14,
   "id": "25758912-aad2-4c31-b13c-9d280aa420a6",
   "metadata": {},
   "outputs": [
    {
     "name": "stdout",
     "output_type": "stream",
     "text": [
      "0.5336072702798061\n"
     ]
    }
   ],
   "source": [
    "import pickle\n",
    "\n",
    "with open('pipeline_v1.bin', 'rb') as f_in:\n",
    "    pipeline = pickle.load(f_in)\n",
    "\n",
    "    customer = {\n",
    "        \"lead_source\": \"paid_ads\",\n",
    "        \"number_of_courses_viewed\": 2,\n",
    "        \"annual_income\": 79276.0\n",
    "    }\n",
    "\n",
    "    prob = pipeline.predict_proba(customer)[0, 1]\n",
    "\n",
    "    print(prob)"
   ]
  },
  {
   "cell_type": "markdown",
   "id": "dad211f2-1df2-464c-95d9-8def4e8be3ed",
   "metadata": {},
   "source": [
    "## Question 4\n",
    "Hosting the model as web service, what's the probability that this client will get a subscription?\n",
    "```json\n",
    "{\n",
    "    \"lead_source\": \"organic_search\",\n",
    "    \"number_of_courses_viewed\": 4,\n",
    "    \"annual_income\": 80304.0\n",
    "}\n",
    "```"
   ]
  },
  {
   "cell_type": "code",
   "execution_count": null,
   "id": "abfc3567-4855-4516-832d-36dd0cf4d1c6",
   "metadata": {},
   "outputs": [],
   "source": []
  }
 ],
 "metadata": {
  "kernelspec": {
   "display_name": "Python 3 (ipykernel)",
   "language": "python",
   "name": "python3"
  },
  "language_info": {
   "codemirror_mode": {
    "name": "ipython",
    "version": 3
   },
   "file_extension": ".py",
   "mimetype": "text/x-python",
   "name": "python",
   "nbconvert_exporter": "python",
   "pygments_lexer": "ipython3",
   "version": "3.13.7"
  }
 },
 "nbformat": 4,
 "nbformat_minor": 5
}
