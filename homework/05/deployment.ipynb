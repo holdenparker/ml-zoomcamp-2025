{
 "cells": [
  {
   "cell_type": "markdown",
   "id": "bc27eec0-5930-4a2b-852a-db4813ec9df9",
   "metadata": {},
   "source": [
    "# Homework 5 - Deployment\n",
    "The goal of this homework is to host the prediction service in a docker container."
   ]
  },
  {
   "cell_type": "markdown",
   "id": "6289ce3d-2e2c-4412-8726-efd28c6fb18e",
   "metadata": {},
   "source": [
    "## Question 1:\n",
    "What version of `pipenv` is installed?"
   ]
  },
  {
   "cell_type": "code",
   "execution_count": 2,
   "id": "428e3fba-d394-4c56-80ac-0454dfd1315b",
   "metadata": {},
   "outputs": [
    {
     "name": "stdout",
     "output_type": "stream",
     "text": [
      "\u001b[1mpipenv\u001b[0m, version 2025.0.4\n"
     ]
    }
   ],
   "source": [
    "# I've installed pipenv using the requirements.txt file\n",
    "# in the docker container hosting my jupyter notebook\n",
    "!pipenv --version"
   ]
  },
  {
   "cell_type": "markdown",
   "id": "448e54f8-0042-490b-896a-5e8454e8cfe6",
   "metadata": {},
   "source": [
    "## Question 2:\n",
    "What's the first hash for scikit-learn in `Pipfile.lock`?"
   ]
  },
  {
   "cell_type": "code",
   "execution_count": 4,
   "id": "6114ba5e-5272-46d6-9ec4-dbe4c2bf4a4b",
   "metadata": {},
   "outputs": [],
   "source": [
    "# I will only run this once, since the lockfile will be committed\n",
    "#!pipenv install scikit-learn==1.5.2"
   ]
  },
  {
   "cell_type": "code",
   "execution_count": 7,
   "id": "2ea0aa52-2cfd-41b1-aa49-8233746e53d3",
   "metadata": {},
   "outputs": [
    {
     "name": "stdout",
     "output_type": "stream",
     "text": [
      "sha256:03b6158efa3faaf1feea3faa884c840ebd61b6484167c711548fce208ea09445\n"
     ]
    }
   ],
   "source": [
    "import json\n",
    "with open('Pipfile.lock', 'r') as f:\n",
    "    data = json.load(f)\n",
    "    print(data['default']['scikit-learn']['hashes'][0])"
   ]
  },
  {
   "cell_type": "markdown",
   "id": "52852fdb-fe3a-4ee1-9e5d-ed18a457d1b6",
   "metadata": {},
   "source": [
    "## Models\n",
    "Download the models that were prepared for this homework."
   ]
  },
  {
   "cell_type": "code",
   "execution_count": 10,
   "id": "c1d83ac1-8d99-4bb8-b14f-c13241d541dc",
   "metadata": {},
   "outputs": [
    {
     "name": "stdout",
     "output_type": "stream",
     "text": [
      "--2025-10-17 10:32:03--  https://raw.githubusercontent.com/DataTalksClub/machine-learning-zoomcamp/master/cohorts/2024/05-deployment/homework/model1.bin\n",
      "Resolving raw.githubusercontent.com (raw.githubusercontent.com)... 185.199.110.133, 185.199.108.133, 185.199.109.133, ...\n",
      "Connecting to raw.githubusercontent.com (raw.githubusercontent.com)|185.199.110.133|:443... connected.\n",
      "HTTP request sent, awaiting response... 404 Not Found\n",
      "2025-10-17 10:32:03 ERROR 404: Not Found.\n",
      "\n",
      "--2025-10-17 10:32:03--  https://raw.githubusercontent.com/DataTalksClub/machine-learning-zoomcamp/master/cohorts/2024/05-deployment/homework/dv.bin\n",
      "Resolving raw.githubusercontent.com (raw.githubusercontent.com)... 185.199.110.133, 185.199.108.133, 185.199.109.133, ...\n",
      "Connecting to raw.githubusercontent.com (raw.githubusercontent.com)|185.199.110.133|:443... connected.\n",
      "HTTP request sent, awaiting response... 404 Not Found\n",
      "2025-10-17 10:32:04 ERROR 404: Not Found.\n",
      "\n"
     ]
    }
   ],
   "source": [
    "!wget https://raw.githubusercontent.com/DataTalksClub/machine-learning-zoomcamp/master/cohorts/2024/05-deployment/homework/model1.bin\n",
    "!wget https://raw.githubusercontent.com/DataTalksClub/machine-learning-zoomcamp/master/cohorts/2024/05-deployment/homework/dv.bin"
   ]
  },
  {
   "cell_type": "code",
   "execution_count": null,
   "id": "a4720e80-305d-49e0-b7f4-0f8765d9aa9c",
   "metadata": {},
   "outputs": [],
   "source": []
  }
 ],
 "metadata": {
  "kernelspec": {
   "display_name": "Python 3 (ipykernel)",
   "language": "python",
   "name": "python3"
  },
  "language_info": {
   "codemirror_mode": {
    "name": "ipython",
    "version": 3
   },
   "file_extension": ".py",
   "mimetype": "text/x-python",
   "name": "python",
   "nbconvert_exporter": "python",
   "pygments_lexer": "ipython3",
   "version": "3.13.7"
  }
 },
 "nbformat": 4,
 "nbformat_minor": 5
}
