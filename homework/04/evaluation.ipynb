{
 "cells": [
  {
   "cell_type": "markdown",
   "id": "dd6e7dd5-5f3f-4c4e-a561-22f903f9ffd6",
   "metadata": {},
   "source": [
    "# Homework 04 - Evaluation\n",
    "The goal of this homework is to determine if a client has subscribed a term deposit or not, using alternative methods to evaluate the model."
   ]
  },
  {
   "cell_type": "code",
   "execution_count": 1,
   "id": "195453c6-3159-4fb2-9210-c928a562473d",
   "metadata": {},
   "outputs": [],
   "source": [
    "import pandas as pd\n",
    "import numpy as np\n",
    "from sklearn.model_selection import train_test_split\n",
    "from sklearn.feature_extraction import DictVectorizer\n",
    "from sklearn.linear_model import LogisticRegression\n",
    "from sklearn.metrics import roc_auc_score"
   ]
  },
  {
   "cell_type": "markdown",
   "id": "ebe67dc9-bd3e-49c0-8d97-2404bc694080",
   "metadata": {},
   "source": [
    "## Dataset\n",
    "This homework will be using the Bank Marketing dataset."
   ]
  },
  {
   "cell_type": "code",
   "execution_count": 2,
   "id": "326adaea-961b-4ff0-b36f-ec1a174655b1",
   "metadata": {},
   "outputs": [
    {
     "data": {
      "text/html": [
       "<div>\n",
       "<style scoped>\n",
       "    .dataframe tbody tr th:only-of-type {\n",
       "        vertical-align: middle;\n",
       "    }\n",
       "\n",
       "    .dataframe tbody tr th {\n",
       "        vertical-align: top;\n",
       "    }\n",
       "\n",
       "    .dataframe thead th {\n",
       "        text-align: right;\n",
       "    }\n",
       "</style>\n",
       "<table border=\"1\" class=\"dataframe\">\n",
       "  <thead>\n",
       "    <tr style=\"text-align: right;\">\n",
       "      <th></th>\n",
       "      <th>age</th>\n",
       "      <th>job</th>\n",
       "      <th>marital</th>\n",
       "      <th>education</th>\n",
       "      <th>default</th>\n",
       "      <th>balance</th>\n",
       "      <th>housing</th>\n",
       "      <th>loan</th>\n",
       "      <th>contact</th>\n",
       "      <th>day</th>\n",
       "      <th>month</th>\n",
       "      <th>duration</th>\n",
       "      <th>campaign</th>\n",
       "      <th>pdays</th>\n",
       "      <th>previous</th>\n",
       "      <th>poutcome</th>\n",
       "      <th>y</th>\n",
       "    </tr>\n",
       "  </thead>\n",
       "  <tbody>\n",
       "    <tr>\n",
       "      <th>0</th>\n",
       "      <td>58</td>\n",
       "      <td>management</td>\n",
       "      <td>married</td>\n",
       "      <td>tertiary</td>\n",
       "      <td>no</td>\n",
       "      <td>2143</td>\n",
       "      <td>yes</td>\n",
       "      <td>no</td>\n",
       "      <td>unknown</td>\n",
       "      <td>5</td>\n",
       "      <td>may</td>\n",
       "      <td>261</td>\n",
       "      <td>1</td>\n",
       "      <td>-1</td>\n",
       "      <td>0</td>\n",
       "      <td>unknown</td>\n",
       "      <td>no</td>\n",
       "    </tr>\n",
       "    <tr>\n",
       "      <th>1</th>\n",
       "      <td>44</td>\n",
       "      <td>technician</td>\n",
       "      <td>single</td>\n",
       "      <td>secondary</td>\n",
       "      <td>no</td>\n",
       "      <td>29</td>\n",
       "      <td>yes</td>\n",
       "      <td>no</td>\n",
       "      <td>unknown</td>\n",
       "      <td>5</td>\n",
       "      <td>may</td>\n",
       "      <td>151</td>\n",
       "      <td>1</td>\n",
       "      <td>-1</td>\n",
       "      <td>0</td>\n",
       "      <td>unknown</td>\n",
       "      <td>no</td>\n",
       "    </tr>\n",
       "    <tr>\n",
       "      <th>2</th>\n",
       "      <td>33</td>\n",
       "      <td>entrepreneur</td>\n",
       "      <td>married</td>\n",
       "      <td>secondary</td>\n",
       "      <td>no</td>\n",
       "      <td>2</td>\n",
       "      <td>yes</td>\n",
       "      <td>yes</td>\n",
       "      <td>unknown</td>\n",
       "      <td>5</td>\n",
       "      <td>may</td>\n",
       "      <td>76</td>\n",
       "      <td>1</td>\n",
       "      <td>-1</td>\n",
       "      <td>0</td>\n",
       "      <td>unknown</td>\n",
       "      <td>no</td>\n",
       "    </tr>\n",
       "    <tr>\n",
       "      <th>3</th>\n",
       "      <td>47</td>\n",
       "      <td>blue-collar</td>\n",
       "      <td>married</td>\n",
       "      <td>unknown</td>\n",
       "      <td>no</td>\n",
       "      <td>1506</td>\n",
       "      <td>yes</td>\n",
       "      <td>no</td>\n",
       "      <td>unknown</td>\n",
       "      <td>5</td>\n",
       "      <td>may</td>\n",
       "      <td>92</td>\n",
       "      <td>1</td>\n",
       "      <td>-1</td>\n",
       "      <td>0</td>\n",
       "      <td>unknown</td>\n",
       "      <td>no</td>\n",
       "    </tr>\n",
       "    <tr>\n",
       "      <th>4</th>\n",
       "      <td>33</td>\n",
       "      <td>unknown</td>\n",
       "      <td>single</td>\n",
       "      <td>unknown</td>\n",
       "      <td>no</td>\n",
       "      <td>1</td>\n",
       "      <td>no</td>\n",
       "      <td>no</td>\n",
       "      <td>unknown</td>\n",
       "      <td>5</td>\n",
       "      <td>may</td>\n",
       "      <td>198</td>\n",
       "      <td>1</td>\n",
       "      <td>-1</td>\n",
       "      <td>0</td>\n",
       "      <td>unknown</td>\n",
       "      <td>no</td>\n",
       "    </tr>\n",
       "  </tbody>\n",
       "</table>\n",
       "</div>"
      ],
      "text/plain": [
       "   age           job  marital  education default  balance housing loan  \\\n",
       "0   58    management  married   tertiary      no     2143     yes   no   \n",
       "1   44    technician   single  secondary      no       29     yes   no   \n",
       "2   33  entrepreneur  married  secondary      no        2     yes  yes   \n",
       "3   47   blue-collar  married    unknown      no     1506     yes   no   \n",
       "4   33       unknown   single    unknown      no        1      no   no   \n",
       "\n",
       "   contact  day month  duration  campaign  pdays  previous poutcome   y  \n",
       "0  unknown    5   may       261         1     -1         0  unknown  no  \n",
       "1  unknown    5   may       151         1     -1         0  unknown  no  \n",
       "2  unknown    5   may        76         1     -1         0  unknown  no  \n",
       "3  unknown    5   may        92         1     -1         0  unknown  no  \n",
       "4  unknown    5   may       198         1     -1         0  unknown  no  "
      ]
     },
     "execution_count": 2,
     "metadata": {},
     "output_type": "execute_result"
    }
   ],
   "source": [
    "#!mkdir data\n",
    "#!wget -O data/bank_marketing.zip https://archive.ics.uci.edu/static/public/222/bank+marketing.zip\n",
    "#!unzip -d data data/bank_marketing.zip \n",
    "#!unzip -d data data/bank.zip\n",
    "\n",
    "bm_df = pd.read_csv(\"data/bank-full.csv\", sep=';')\n",
    "bm_df.columns = bm_df.columns.str.lower().str.replace(' ', '_')\n",
    "bm_df.head()"
   ]
  },
  {
   "cell_type": "markdown",
   "id": "db50c547-44fc-4818-98d9-34b0b60652b4",
   "metadata": {},
   "source": [
    "## Data preparation\n",
    "Split the data into train/val/test (60%/20%/20%) with a `random_state=1`.  There is no mention of checking for missing values."
   ]
  },
  {
   "cell_type": "code",
   "execution_count": 3,
   "id": "a4a77260-632e-404f-b853-266c57d5792f",
   "metadata": {},
   "outputs": [
    {
     "data": {
      "text/plain": [
       "(27126, 9042, 9043)"
      ]
     },
     "execution_count": 3,
     "metadata": {},
     "output_type": "execute_result"
    }
   ],
   "source": [
    "cols = [\n",
    "    'age',\n",
    "    'job',\n",
    "    'marital',\n",
    "    'education',\n",
    "    'balance',\n",
    "    'housing',\n",
    "    'contact',\n",
    "    'day',\n",
    "    'month',\n",
    "    'duration',\n",
    "    'campaign',\n",
    "    'pdays',\n",
    "    'previous',\n",
    "    'poutcome',\n",
    "    'y'\n",
    "]\n",
    "full_train_df, test_df = train_test_split(bm_df, test_size=0.2, random_state=1)\n",
    "train_df, val_df = train_test_split(full_train_df, test_size=0.25, random_state=1)\n",
    "(len(train_df), len(val_df), len(test_df))"
   ]
  },
  {
   "cell_type": "markdown",
   "id": "d8b239a1-e1fb-4ca3-8fba-ca10367c74e5",
   "metadata": {},
   "source": [
    "## Question 1\n",
    "Which numerical variable has the highest AUC? `balance`, `day`, `duration`, or `previous`?"
   ]
  },
  {
   "cell_type": "code",
   "execution_count": 4,
   "id": "757234e9-026f-4e4d-a38b-38fd3fd713e2",
   "metadata": {},
   "outputs": [
    {
     "data": {
      "text/html": [
       "<div>\n",
       "<style scoped>\n",
       "    .dataframe tbody tr th:only-of-type {\n",
       "        vertical-align: middle;\n",
       "    }\n",
       "\n",
       "    .dataframe tbody tr th {\n",
       "        vertical-align: top;\n",
       "    }\n",
       "\n",
       "    .dataframe thead th {\n",
       "        text-align: right;\n",
       "    }\n",
       "</style>\n",
       "<table border=\"1\" class=\"dataframe\">\n",
       "  <thead>\n",
       "    <tr style=\"text-align: right;\">\n",
       "      <th></th>\n",
       "      <th>feature</th>\n",
       "      <th>roc_auc_score</th>\n",
       "    </tr>\n",
       "  </thead>\n",
       "  <tbody>\n",
       "    <tr>\n",
       "      <th>3</th>\n",
       "      <td>duration</td>\n",
       "      <td>0.814700</td>\n",
       "    </tr>\n",
       "    <tr>\n",
       "      <th>6</th>\n",
       "      <td>previous</td>\n",
       "      <td>0.598565</td>\n",
       "    </tr>\n",
       "    <tr>\n",
       "      <th>5</th>\n",
       "      <td>pdays</td>\n",
       "      <td>0.590128</td>\n",
       "    </tr>\n",
       "    <tr>\n",
       "      <th>1</th>\n",
       "      <td>balance</td>\n",
       "      <td>0.588831</td>\n",
       "    </tr>\n",
       "    <tr>\n",
       "      <th>4</th>\n",
       "      <td>campaign</td>\n",
       "      <td>0.571454</td>\n",
       "    </tr>\n",
       "    <tr>\n",
       "      <th>2</th>\n",
       "      <td>day</td>\n",
       "      <td>0.525958</td>\n",
       "    </tr>\n",
       "    <tr>\n",
       "      <th>0</th>\n",
       "      <td>age</td>\n",
       "      <td>0.512186</td>\n",
       "    </tr>\n",
       "  </tbody>\n",
       "</table>\n",
       "</div>"
      ],
      "text/plain": [
       "    feature  roc_auc_score\n",
       "3  duration       0.814700\n",
       "6  previous       0.598565\n",
       "5     pdays       0.590128\n",
       "1   balance       0.588831\n",
       "4  campaign       0.571454\n",
       "2       day       0.525958\n",
       "0       age       0.512186"
      ]
     },
     "execution_count": 4,
     "metadata": {},
     "output_type": "execute_result"
    }
   ],
   "source": [
    "feature_importance = []\n",
    "\n",
    "for num_col in train_df.dtypes[train_df.dtypes != 'object'].index:\n",
    "    ras = roc_auc_score(train_df.y, train_df[num_col])\n",
    "    if ras < 0.5:\n",
    "        ras = roc_auc_score(train_df.y, -train_df[num_col])\n",
    "    feature_importance.append(\n",
    "        (num_col, ras))\n",
    "\n",
    "pd.DataFrame(feature_importance, columns=['feature', 'roc_auc_score']).sort_values(by='roc_auc_score', ascending=False)"
   ]
  },
  {
   "cell_type": "markdown",
   "id": "5e0ae9b9-127c-47b6-ba82-88e6b4115ab8",
   "metadata": {},
   "source": [
    "## Question 2\n",
    "What is the AUC of the model on the validation dataset?"
   ]
  },
  {
   "cell_type": "code",
   "execution_count": 5,
   "id": "1630d4a0-8374-4e97-83b5-c98c1d673eef",
   "metadata": {},
   "outputs": [],
   "source": [
    "def train(tr_df, v_df):\n",
    "    train_dict = tr_df.drop('y', axis=1).to_dict(orient='records')\n",
    "    train_y = tr_df.y.map({'yes': 1, 'no': 0}).values\n",
    "\n",
    "    val_dict = v_df.drop('y', axis=1).to_dict(orient='records')\n",
    "    val_y = v_df.y.map({'yes': 1, 'no': 0}).values\n",
    "    \n",
    "    dv = DictVectorizer(sparse=False)\n",
    "    train_X = dv.fit_transform(train_dict)\n",
    "    val_X = dv.fit_transform(val_dict)\n",
    "\n",
    "    model = LogisticRegression(\n",
    "        solver='liblinear',\n",
    "        C=1.0,\n",
    "        max_iter=1000)\n",
    "    model.fit(train_X, train_y)\n",
    "\n",
    "    pred_y = model.predict_proba(val_X)[:, 1]\n",
    "\n",
    "    return val_y, pred_y"
   ]
  },
  {
   "cell_type": "code",
   "execution_count": 6,
   "id": "bff2a60d-1169-4d1b-8a0e-1a3c9c5a2f1c",
   "metadata": {},
   "outputs": [],
   "source": [
    "def ras(tr_df, v_df):\n",
    "    val_y, pred_y = train(tr_df, v_df)\n",
    "    return roc_auc_score(val_y, pred_y)"
   ]
  },
  {
   "cell_type": "code",
   "execution_count": 7,
   "id": "86c061aa-6785-4cab-8738-e4a004ff9c69",
   "metadata": {},
   "outputs": [
    {
     "data": {
      "text/plain": [
       "0.901"
      ]
     },
     "execution_count": 7,
     "metadata": {},
     "output_type": "execute_result"
    }
   ],
   "source": [
    "round(ras(train_df, val_df), 3)"
   ]
  },
  {
   "cell_type": "code",
   "execution_count": null,
   "id": "5ff1d834-8cbd-4bef-a68d-7f43c1ae51ad",
   "metadata": {},
   "outputs": [],
   "source": []
  }
 ],
 "metadata": {
  "kernelspec": {
   "display_name": "Python 3 (ipykernel)",
   "language": "python",
   "name": "python3"
  },
  "language_info": {
   "codemirror_mode": {
    "name": "ipython",
    "version": 3
   },
   "file_extension": ".py",
   "mimetype": "text/x-python",
   "name": "python",
   "nbconvert_exporter": "python",
   "pygments_lexer": "ipython3",
   "version": "3.13.7"
  }
 },
 "nbformat": 4,
 "nbformat_minor": 5
}
