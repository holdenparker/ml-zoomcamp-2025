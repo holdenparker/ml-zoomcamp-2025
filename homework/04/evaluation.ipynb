{
 "cells": [
  {
   "cell_type": "markdown",
   "id": "dd6e7dd5-5f3f-4c4e-a561-22f903f9ffd6",
   "metadata": {},
   "source": [
    "# Homework 04 - Evaluation\n",
    "The goal of this homework is to determine if a client has subscribed a term deposit or not, using alternative methods to evaluate the model."
   ]
  },
  {
   "cell_type": "code",
   "execution_count": 1,
   "id": "195453c6-3159-4fb2-9210-c928a562473d",
   "metadata": {},
   "outputs": [],
   "source": [
    "import pandas as pd\n",
    "import numpy as np\n",
    "from sklearn.model_selection import train_test_split\n",
    "from sklearn.feature_extraction import DictVectorizer\n",
    "from sklearn.linear_model import LogisticRegression\n",
    "from sklearn.metrics import roc_auc_score"
   ]
  },
  {
   "cell_type": "markdown",
   "id": "ebe67dc9-bd3e-49c0-8d97-2404bc694080",
   "metadata": {},
   "source": [
    "## Dataset\n",
    "This homework will be using the Bank Marketing dataset."
   ]
  },
  {
   "cell_type": "code",
   "execution_count": 2,
   "id": "326adaea-961b-4ff0-b36f-ec1a174655b1",
   "metadata": {},
   "outputs": [
    {
     "data": {
      "text/html": [
       "<div>\n",
       "<style scoped>\n",
       "    .dataframe tbody tr th:only-of-type {\n",
       "        vertical-align: middle;\n",
       "    }\n",
       "\n",
       "    .dataframe tbody tr th {\n",
       "        vertical-align: top;\n",
       "    }\n",
       "\n",
       "    .dataframe thead th {\n",
       "        text-align: right;\n",
       "    }\n",
       "</style>\n",
       "<table border=\"1\" class=\"dataframe\">\n",
       "  <thead>\n",
       "    <tr style=\"text-align: right;\">\n",
       "      <th></th>\n",
       "      <th>lead_source</th>\n",
       "      <th>industry</th>\n",
       "      <th>number_of_courses_viewed</th>\n",
       "      <th>annual_income</th>\n",
       "      <th>employment_status</th>\n",
       "      <th>location</th>\n",
       "      <th>interaction_count</th>\n",
       "      <th>lead_score</th>\n",
       "      <th>converted</th>\n",
       "    </tr>\n",
       "  </thead>\n",
       "  <tbody>\n",
       "    <tr>\n",
       "      <th>0</th>\n",
       "      <td>paid_ads</td>\n",
       "      <td>NaN</td>\n",
       "      <td>1</td>\n",
       "      <td>79450.0</td>\n",
       "      <td>unemployed</td>\n",
       "      <td>south_america</td>\n",
       "      <td>4</td>\n",
       "      <td>0.94</td>\n",
       "      <td>1</td>\n",
       "    </tr>\n",
       "    <tr>\n",
       "      <th>1</th>\n",
       "      <td>social_media</td>\n",
       "      <td>retail</td>\n",
       "      <td>1</td>\n",
       "      <td>46992.0</td>\n",
       "      <td>employed</td>\n",
       "      <td>south_america</td>\n",
       "      <td>1</td>\n",
       "      <td>0.80</td>\n",
       "      <td>0</td>\n",
       "    </tr>\n",
       "    <tr>\n",
       "      <th>2</th>\n",
       "      <td>events</td>\n",
       "      <td>healthcare</td>\n",
       "      <td>5</td>\n",
       "      <td>78796.0</td>\n",
       "      <td>unemployed</td>\n",
       "      <td>australia</td>\n",
       "      <td>3</td>\n",
       "      <td>0.69</td>\n",
       "      <td>1</td>\n",
       "    </tr>\n",
       "    <tr>\n",
       "      <th>3</th>\n",
       "      <td>paid_ads</td>\n",
       "      <td>retail</td>\n",
       "      <td>2</td>\n",
       "      <td>83843.0</td>\n",
       "      <td>NaN</td>\n",
       "      <td>australia</td>\n",
       "      <td>1</td>\n",
       "      <td>0.87</td>\n",
       "      <td>0</td>\n",
       "    </tr>\n",
       "    <tr>\n",
       "      <th>4</th>\n",
       "      <td>referral</td>\n",
       "      <td>education</td>\n",
       "      <td>3</td>\n",
       "      <td>85012.0</td>\n",
       "      <td>self_employed</td>\n",
       "      <td>europe</td>\n",
       "      <td>3</td>\n",
       "      <td>0.62</td>\n",
       "      <td>1</td>\n",
       "    </tr>\n",
       "  </tbody>\n",
       "</table>\n",
       "</div>"
      ],
      "text/plain": [
       "    lead_source    industry  number_of_courses_viewed  annual_income  \\\n",
       "0      paid_ads         NaN                         1        79450.0   \n",
       "1  social_media      retail                         1        46992.0   \n",
       "2        events  healthcare                         5        78796.0   \n",
       "3      paid_ads      retail                         2        83843.0   \n",
       "4      referral   education                         3        85012.0   \n",
       "\n",
       "  employment_status       location  interaction_count  lead_score  converted  \n",
       "0        unemployed  south_america                  4        0.94          1  \n",
       "1          employed  south_america                  1        0.80          0  \n",
       "2        unemployed      australia                  3        0.69          1  \n",
       "3               NaN      australia                  1        0.87          0  \n",
       "4     self_employed         europe                  3        0.62          1  "
      ]
     },
     "execution_count": 2,
     "metadata": {},
     "output_type": "execute_result"
    }
   ],
   "source": [
    "bm_url = \"https://raw.githubusercontent.com/alexeygrigorev/datasets/master/course_lead_scoring.csv\"\n",
    "bm_df = pd.read_csv(bm_url)\n",
    "bm_df.columns = bm_df.columns.str.lower().str.replace(' ', '_')\n",
    "bm_df.head()"
   ]
  },
  {
   "cell_type": "markdown",
   "id": "db50c547-44fc-4818-98d9-34b0b60652b4",
   "metadata": {},
   "source": [
    "## Data preparation\n",
    "Split the data into train/val/test (60%/20%/20%) with a `random_state=1`."
   ]
  },
  {
   "cell_type": "code",
   "execution_count": 3,
   "id": "ecf0bbe9-cd53-4140-a738-940ec0ed1af3",
   "metadata": {},
   "outputs": [
    {
     "data": {
      "text/plain": [
       "(['lead_source', 'industry', 'employment_status', 'location'],\n",
       " ['number_of_courses_viewed',\n",
       "  'annual_income',\n",
       "  'interaction_count',\n",
       "  'lead_score'])"
      ]
     },
     "execution_count": 3,
     "metadata": {},
     "output_type": "execute_result"
    }
   ],
   "source": [
    "categorical_cols = list(bm_df.dtypes[bm_df.dtypes == 'object'].index)\n",
    "numeric_cols = [col for col in list(bm_df.dtypes.index) if col not in categorical_cols and col != 'converted']\n",
    "(categorical_cols, numeric_cols)"
   ]
  },
  {
   "cell_type": "code",
   "execution_count": 4,
   "id": "0b747dbc-5c9d-4462-b55b-97fe0ca2e397",
   "metadata": {},
   "outputs": [
    {
     "data": {
      "text/plain": [
       "lead_source                 128\n",
       "industry                    134\n",
       "number_of_courses_viewed      0\n",
       "annual_income               181\n",
       "employment_status           100\n",
       "location                     63\n",
       "interaction_count             0\n",
       "lead_score                    0\n",
       "converted                     0\n",
       "dtype: int64"
      ]
     },
     "execution_count": 4,
     "metadata": {},
     "output_type": "execute_result"
    }
   ],
   "source": [
    "bm_df.isna().sum()"
   ]
  },
  {
   "cell_type": "code",
   "execution_count": 5,
   "id": "dec9ccdd-74e5-4c85-a58d-c960fb7f9fe7",
   "metadata": {},
   "outputs": [],
   "source": [
    "bm_df[categorical_cols] = bm_df[categorical_cols].fillna('NA')\n",
    "bm_df[numeric_cols] = bm_df[numeric_cols].fillna(0.0)"
   ]
  },
  {
   "cell_type": "code",
   "execution_count": 6,
   "id": "9c375496-999e-4cf2-b1cf-ea42069115e9",
   "metadata": {},
   "outputs": [
    {
     "data": {
      "text/plain": [
       "lead_source                 0\n",
       "industry                    0\n",
       "number_of_courses_viewed    0\n",
       "annual_income               0\n",
       "employment_status           0\n",
       "location                    0\n",
       "interaction_count           0\n",
       "lead_score                  0\n",
       "converted                   0\n",
       "dtype: int64"
      ]
     },
     "execution_count": 6,
     "metadata": {},
     "output_type": "execute_result"
    }
   ],
   "source": [
    "bm_df.isna().sum()"
   ]
  },
  {
   "cell_type": "code",
   "execution_count": 7,
   "id": "a4a77260-632e-404f-b853-266c57d5792f",
   "metadata": {},
   "outputs": [
    {
     "data": {
      "text/plain": [
       "(876, 293, 293)"
      ]
     },
     "execution_count": 7,
     "metadata": {},
     "output_type": "execute_result"
    }
   ],
   "source": [
    "full_train_df, test_df = train_test_split(bm_df, test_size=0.2, random_state=1)\n",
    "train_df, val_df = train_test_split(full_train_df, test_size=0.25, random_state=1)\n",
    "(len(train_df), len(val_df), len(test_df))"
   ]
  },
  {
   "cell_type": "markdown",
   "id": "d8b239a1-e1fb-4ca3-8fba-ca10367c74e5",
   "metadata": {},
   "source": [
    "## Question 1\n",
    "Which numerical variable has the highest AUC? `balance`, `day`, `duration`, or `previous`?"
   ]
  },
  {
   "cell_type": "code",
   "execution_count": 8,
   "id": "757234e9-026f-4e4d-a38b-38fd3fd713e2",
   "metadata": {},
   "outputs": [
    {
     "data": {
      "text/html": [
       "<div>\n",
       "<style scoped>\n",
       "    .dataframe tbody tr th:only-of-type {\n",
       "        vertical-align: middle;\n",
       "    }\n",
       "\n",
       "    .dataframe tbody tr th {\n",
       "        vertical-align: top;\n",
       "    }\n",
       "\n",
       "    .dataframe thead th {\n",
       "        text-align: right;\n",
       "    }\n",
       "</style>\n",
       "<table border=\"1\" class=\"dataframe\">\n",
       "  <thead>\n",
       "    <tr style=\"text-align: right;\">\n",
       "      <th></th>\n",
       "      <th>feature</th>\n",
       "      <th>roc_auc_score</th>\n",
       "    </tr>\n",
       "  </thead>\n",
       "  <tbody>\n",
       "    <tr>\n",
       "      <th>4</th>\n",
       "      <td>converted</td>\n",
       "      <td>1.000000</td>\n",
       "    </tr>\n",
       "    <tr>\n",
       "      <th>0</th>\n",
       "      <td>number_of_courses_viewed</td>\n",
       "      <td>0.763568</td>\n",
       "    </tr>\n",
       "    <tr>\n",
       "      <th>2</th>\n",
       "      <td>interaction_count</td>\n",
       "      <td>0.738270</td>\n",
       "    </tr>\n",
       "    <tr>\n",
       "      <th>3</th>\n",
       "      <td>lead_score</td>\n",
       "      <td>0.614499</td>\n",
       "    </tr>\n",
       "    <tr>\n",
       "      <th>1</th>\n",
       "      <td>annual_income</td>\n",
       "      <td>0.551958</td>\n",
       "    </tr>\n",
       "  </tbody>\n",
       "</table>\n",
       "</div>"
      ],
      "text/plain": [
       "                    feature  roc_auc_score\n",
       "4                 converted       1.000000\n",
       "0  number_of_courses_viewed       0.763568\n",
       "2         interaction_count       0.738270\n",
       "3                lead_score       0.614499\n",
       "1             annual_income       0.551958"
      ]
     },
     "execution_count": 8,
     "metadata": {},
     "output_type": "execute_result"
    }
   ],
   "source": [
    "feature_importance = []\n",
    "\n",
    "for num_col in train_df.dtypes[train_df.dtypes != 'object'].index:\n",
    "    ras = roc_auc_score(train_df.converted, train_df[num_col])\n",
    "    if ras < 0.5:\n",
    "        ras = roc_auc_score(train_df.converted, -train_df[num_col])\n",
    "    feature_importance.append(\n",
    "        (num_col, ras))\n",
    "\n",
    "pd.DataFrame(feature_importance, columns=['feature', 'roc_auc_score']).sort_values(by='roc_auc_score', ascending=False)"
   ]
  },
  {
   "cell_type": "markdown",
   "id": "5e0ae9b9-127c-47b6-ba82-88e6b4115ab8",
   "metadata": {},
   "source": [
    "## Question 2\n",
    "What is the AUC of the model on the validation dataset?"
   ]
  },
  {
   "cell_type": "code",
   "execution_count": 9,
   "id": "1630d4a0-8374-4e97-83b5-c98c1d673eef",
   "metadata": {},
   "outputs": [],
   "source": [
    "def train(tr_df, v_df):\n",
    "    train_dict = tr_df.drop('converted', axis=1).to_dict(orient='records')\n",
    "    train_y = tr_df.converted.values\n",
    "\n",
    "    val_dict = v_df.drop('converted', axis=1).to_dict(orient='records')\n",
    "    val_y = v_df.converted.values\n",
    "    \n",
    "    dv = DictVectorizer(sparse=False)\n",
    "    train_X = dv.fit_transform(train_dict)\n",
    "    val_X = dv.fit_transform(val_dict)\n",
    "\n",
    "    model = LogisticRegression(\n",
    "        solver='liblinear',\n",
    "        C=1.0,\n",
    "        max_iter=1000)\n",
    "    model.fit(train_X, train_y)\n",
    "\n",
    "    pred_y = model.predict_proba(val_X)[:, 1]\n",
    "\n",
    "    return val_y, pred_y"
   ]
  },
  {
   "cell_type": "code",
   "execution_count": 10,
   "id": "bff2a60d-1169-4d1b-8a0e-1a3c9c5a2f1c",
   "metadata": {},
   "outputs": [],
   "source": [
    "def ras(tr_df, v_df):\n",
    "    val_y, pred_y = train(tr_df, v_df)\n",
    "    return roc_auc_score(val_y, pred_y)"
   ]
  },
  {
   "cell_type": "code",
   "execution_count": 11,
   "id": "86c061aa-6785-4cab-8738-e4a004ff9c69",
   "metadata": {},
   "outputs": [
    {
     "data": {
      "text/plain": [
       "0.817"
      ]
     },
     "execution_count": 11,
     "metadata": {},
     "output_type": "execute_result"
    }
   ],
   "source": [
    "round(ras(train_df, val_df), 3)"
   ]
  },
  {
   "cell_type": "code",
   "execution_count": null,
   "id": "5ff1d834-8cbd-4bef-a68d-7f43c1ae51ad",
   "metadata": {},
   "outputs": [],
   "source": []
  },
  {
   "cell_type": "code",
   "execution_count": null,
   "id": "7d047c8c-cff9-432b-a802-bf149b950f6c",
   "metadata": {},
   "outputs": [],
   "source": []
  }
 ],
 "metadata": {
  "kernelspec": {
   "display_name": "Python 3 (ipykernel)",
   "language": "python",
   "name": "python3"
  },
  "language_info": {
   "codemirror_mode": {
    "name": "ipython",
    "version": 3
   },
   "file_extension": ".py",
   "mimetype": "text/x-python",
   "name": "python",
   "nbconvert_exporter": "python",
   "pygments_lexer": "ipython3",
   "version": "3.13.7"
  }
 },
 "nbformat": 4,
 "nbformat_minor": 5
}
