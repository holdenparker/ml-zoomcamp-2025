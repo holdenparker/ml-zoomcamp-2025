{
 "cells": [
  {
   "cell_type": "markdown",
   "id": "6fea47e8-278a-45da-82c7-58dfc2c8475f",
   "metadata": {},
   "source": [
    "# Homework 03 - Classification\n",
    "The goal of this homework is to determine if a client has signed up for the platform yet or not."
   ]
  },
  {
   "cell_type": "code",
   "execution_count": 1,
   "id": "b3f8bcae-4419-43ba-8538-3dabd52f8296",
   "metadata": {},
   "outputs": [],
   "source": [
    "import pandas as pd\n",
    "import numpy as np\n",
    "from sklearn.model_selection import train_test_split\n",
    "from sklearn.metrics import mutual_info_score\n",
    "from sklearn.feature_extraction import DictVectorizer\n",
    "from sklearn.linear_model import LogisticRegression"
   ]
  },
  {
   "cell_type": "markdown",
   "id": "590ca88f-12e4-4d39-831f-fa75f08e251a",
   "metadata": {},
   "source": [
    "## Dataset\n",
    "This homework will use the Bank Marketing dataset."
   ]
  },
  {
   "cell_type": "code",
   "execution_count": 2,
   "id": "bcf821b8-8bfd-4cd8-bedb-8b75abcea4ec",
   "metadata": {},
   "outputs": [
    {
     "data": {
      "text/html": [
       "<div>\n",
       "<style scoped>\n",
       "    .dataframe tbody tr th:only-of-type {\n",
       "        vertical-align: middle;\n",
       "    }\n",
       "\n",
       "    .dataframe tbody tr th {\n",
       "        vertical-align: top;\n",
       "    }\n",
       "\n",
       "    .dataframe thead th {\n",
       "        text-align: right;\n",
       "    }\n",
       "</style>\n",
       "<table border=\"1\" class=\"dataframe\">\n",
       "  <thead>\n",
       "    <tr style=\"text-align: right;\">\n",
       "      <th></th>\n",
       "      <th>lead_source</th>\n",
       "      <th>industry</th>\n",
       "      <th>number_of_courses_viewed</th>\n",
       "      <th>annual_income</th>\n",
       "      <th>employment_status</th>\n",
       "      <th>location</th>\n",
       "      <th>interaction_count</th>\n",
       "      <th>lead_score</th>\n",
       "      <th>converted</th>\n",
       "    </tr>\n",
       "  </thead>\n",
       "  <tbody>\n",
       "    <tr>\n",
       "      <th>0</th>\n",
       "      <td>paid_ads</td>\n",
       "      <td>NaN</td>\n",
       "      <td>1</td>\n",
       "      <td>79450.0</td>\n",
       "      <td>unemployed</td>\n",
       "      <td>south_america</td>\n",
       "      <td>4</td>\n",
       "      <td>0.94</td>\n",
       "      <td>1</td>\n",
       "    </tr>\n",
       "    <tr>\n",
       "      <th>1</th>\n",
       "      <td>social_media</td>\n",
       "      <td>retail</td>\n",
       "      <td>1</td>\n",
       "      <td>46992.0</td>\n",
       "      <td>employed</td>\n",
       "      <td>south_america</td>\n",
       "      <td>1</td>\n",
       "      <td>0.80</td>\n",
       "      <td>0</td>\n",
       "    </tr>\n",
       "    <tr>\n",
       "      <th>2</th>\n",
       "      <td>events</td>\n",
       "      <td>healthcare</td>\n",
       "      <td>5</td>\n",
       "      <td>78796.0</td>\n",
       "      <td>unemployed</td>\n",
       "      <td>australia</td>\n",
       "      <td>3</td>\n",
       "      <td>0.69</td>\n",
       "      <td>1</td>\n",
       "    </tr>\n",
       "    <tr>\n",
       "      <th>3</th>\n",
       "      <td>paid_ads</td>\n",
       "      <td>retail</td>\n",
       "      <td>2</td>\n",
       "      <td>83843.0</td>\n",
       "      <td>NaN</td>\n",
       "      <td>australia</td>\n",
       "      <td>1</td>\n",
       "      <td>0.87</td>\n",
       "      <td>0</td>\n",
       "    </tr>\n",
       "    <tr>\n",
       "      <th>4</th>\n",
       "      <td>referral</td>\n",
       "      <td>education</td>\n",
       "      <td>3</td>\n",
       "      <td>85012.0</td>\n",
       "      <td>self_employed</td>\n",
       "      <td>europe</td>\n",
       "      <td>3</td>\n",
       "      <td>0.62</td>\n",
       "      <td>1</td>\n",
       "    </tr>\n",
       "  </tbody>\n",
       "</table>\n",
       "</div>"
      ],
      "text/plain": [
       "    lead_source    industry  number_of_courses_viewed  annual_income  \\\n",
       "0      paid_ads         NaN                         1        79450.0   \n",
       "1  social_media      retail                         1        46992.0   \n",
       "2        events  healthcare                         5        78796.0   \n",
       "3      paid_ads      retail                         2        83843.0   \n",
       "4      referral   education                         3        85012.0   \n",
       "\n",
       "  employment_status       location  interaction_count  lead_score  converted  \n",
       "0        unemployed  south_america                  4        0.94          1  \n",
       "1          employed  south_america                  1        0.80          0  \n",
       "2        unemployed      australia                  3        0.69          1  \n",
       "3               NaN      australia                  1        0.87          0  \n",
       "4     self_employed         europe                  3        0.62          1  "
      ]
     },
     "execution_count": 2,
     "metadata": {},
     "output_type": "execute_result"
    }
   ],
   "source": [
    "bm_url = \"https://raw.githubusercontent.com/alexeygrigorev/datasets/master/course_lead_scoring.csv\"\n",
    "bm_df = pd.read_csv(bm_url)\n",
    "bm_df.columns = bm_df.columns.str.lower().str.replace(' ', '_')\n",
    "bm_df.head()"
   ]
  },
  {
   "cell_type": "markdown",
   "id": "1171fc86-d8fe-486a-9944-32c2ac4206fc",
   "metadata": {},
   "source": [
    "## Data preparation\n",
    "Check for missing values.  Replace missing categorical values with `NA` and missing numeric values with `0.0`."
   ]
  },
  {
   "cell_type": "code",
   "execution_count": 3,
   "id": "08e555c3-fdc3-4bfa-9ac6-33b7fa4c34a2",
   "metadata": {},
   "outputs": [
    {
     "data": {
      "text/plain": [
       "(['lead_source', 'industry', 'employment_status', 'location'],\n",
       " ['number_of_courses_viewed',\n",
       "  'annual_income',\n",
       "  'interaction_count',\n",
       "  'lead_score'])"
      ]
     },
     "execution_count": 3,
     "metadata": {},
     "output_type": "execute_result"
    }
   ],
   "source": [
    "categorical_cols = list(bm_df.dtypes[bm_df.dtypes == 'object'].index)\n",
    "numeric_cols = [col for col in list(bm_df.dtypes.index) if col not in categorical_cols and col != 'converted']\n",
    "(categorical_cols, numeric_cols)"
   ]
  },
  {
   "cell_type": "code",
   "execution_count": 4,
   "id": "27cfee35-b3bf-408d-acba-f2f3b5dadb5f",
   "metadata": {},
   "outputs": [
    {
     "data": {
      "text/plain": [
       "lead_source                 128\n",
       "industry                    134\n",
       "number_of_courses_viewed      0\n",
       "annual_income               181\n",
       "employment_status           100\n",
       "location                     63\n",
       "interaction_count             0\n",
       "lead_score                    0\n",
       "converted                     0\n",
       "dtype: int64"
      ]
     },
     "execution_count": 4,
     "metadata": {},
     "output_type": "execute_result"
    }
   ],
   "source": [
    "bm_df.isna().sum()"
   ]
  },
  {
   "cell_type": "code",
   "execution_count": 5,
   "id": "3a6afb6a-b969-4ac5-9903-df0efe77d014",
   "metadata": {},
   "outputs": [],
   "source": [
    "bm_df[categorical_cols] = bm_df[categorical_cols].fillna('NA')\n",
    "bm_df[numeric_cols] = bm_df[numeric_cols].fillna(0.0)"
   ]
  },
  {
   "cell_type": "code",
   "execution_count": 6,
   "id": "1951c54e-fe3d-45b6-a620-504873a7addc",
   "metadata": {},
   "outputs": [
    {
     "data": {
      "text/plain": [
       "lead_source                 0\n",
       "industry                    0\n",
       "number_of_courses_viewed    0\n",
       "annual_income               0\n",
       "employment_status           0\n",
       "location                    0\n",
       "interaction_count           0\n",
       "lead_score                  0\n",
       "converted                   0\n",
       "dtype: int64"
      ]
     },
     "execution_count": 6,
     "metadata": {},
     "output_type": "execute_result"
    }
   ],
   "source": [
    "bm_df.isna().sum()"
   ]
  },
  {
   "cell_type": "markdown",
   "id": "ded6d68e-eca2-46ac-b9d0-b68205ddb3cd",
   "metadata": {},
   "source": [
    "## Question 1\n",
    "What is the most frequent observation for the column `industry`?\n"
   ]
  },
  {
   "cell_type": "code",
   "execution_count": 7,
   "id": "537d8f16-8972-48d4-bddf-d200402af8af",
   "metadata": {},
   "outputs": [
    {
     "data": {
      "text/plain": [
       "'retail'"
      ]
     },
     "execution_count": 7,
     "metadata": {},
     "output_type": "execute_result"
    }
   ],
   "source": [
    "bm_df.industry.mode()[0]"
   ]
  },
  {
   "cell_type": "markdown",
   "id": "f7ad90ee-1c36-44c9-8eda-81d4fe49c8b8",
   "metadata": {},
   "source": [
    "## Question 2\n",
    "Create the correlation matrix for the numerical features of your dataset.\n",
    "What are the two features that have the biggest correlation?"
   ]
  },
  {
   "cell_type": "code",
   "execution_count": 8,
   "id": "b5edbe6b-da4c-496d-a8fc-0bb30157178f",
   "metadata": {},
   "outputs": [
    {
     "data": {
      "text/html": [
       "<div>\n",
       "<style scoped>\n",
       "    .dataframe tbody tr th:only-of-type {\n",
       "        vertical-align: middle;\n",
       "    }\n",
       "\n",
       "    .dataframe tbody tr th {\n",
       "        vertical-align: top;\n",
       "    }\n",
       "\n",
       "    .dataframe thead th {\n",
       "        text-align: right;\n",
       "    }\n",
       "</style>\n",
       "<table border=\"1\" class=\"dataframe\">\n",
       "  <thead>\n",
       "    <tr style=\"text-align: right;\">\n",
       "      <th></th>\n",
       "      <th>number_of_courses_viewed</th>\n",
       "      <th>annual_income</th>\n",
       "      <th>interaction_count</th>\n",
       "      <th>lead_score</th>\n",
       "    </tr>\n",
       "  </thead>\n",
       "  <tbody>\n",
       "    <tr>\n",
       "      <th>number_of_courses_viewed</th>\n",
       "      <td>0.000000</td>\n",
       "      <td>0.009770</td>\n",
       "      <td>0.023565</td>\n",
       "      <td>0.004879</td>\n",
       "    </tr>\n",
       "    <tr>\n",
       "      <th>annual_income</th>\n",
       "      <td>0.009770</td>\n",
       "      <td>0.000000</td>\n",
       "      <td>0.027036</td>\n",
       "      <td>0.015610</td>\n",
       "    </tr>\n",
       "    <tr>\n",
       "      <th>interaction_count</th>\n",
       "      <td>0.023565</td>\n",
       "      <td>0.027036</td>\n",
       "      <td>0.000000</td>\n",
       "      <td>0.009888</td>\n",
       "    </tr>\n",
       "    <tr>\n",
       "      <th>lead_score</th>\n",
       "      <td>0.004879</td>\n",
       "      <td>0.015610</td>\n",
       "      <td>0.009888</td>\n",
       "      <td>0.000000</td>\n",
       "    </tr>\n",
       "  </tbody>\n",
       "</table>\n",
       "</div>"
      ],
      "text/plain": [
       "                          number_of_courses_viewed  annual_income  \\\n",
       "number_of_courses_viewed                  0.000000       0.009770   \n",
       "annual_income                             0.009770       0.000000   \n",
       "interaction_count                         0.023565       0.027036   \n",
       "lead_score                                0.004879       0.015610   \n",
       "\n",
       "                          interaction_count  lead_score  \n",
       "number_of_courses_viewed           0.023565    0.004879  \n",
       "annual_income                      0.027036    0.015610  \n",
       "interaction_count                  0.000000    0.009888  \n",
       "lead_score                         0.009888    0.000000  "
      ]
     },
     "execution_count": 8,
     "metadata": {},
     "output_type": "execute_result"
    }
   ],
   "source": [
    "bm_df[numeric_cols].corr().abs() - np.eye(len(numeric_cols))"
   ]
  },
  {
   "cell_type": "markdown",
   "id": "ca31b91c-0f7b-4da1-a3d7-1413bcc7680e",
   "metadata": {},
   "source": [
    "## Split the data"
   ]
  },
  {
   "cell_type": "code",
   "execution_count": 9,
   "id": "52e01f42-22bc-4e42-8a35-30e2d8a76e96",
   "metadata": {},
   "outputs": [
    {
     "data": {
      "text/plain": [
       "(876, 293, 293)"
      ]
     },
     "execution_count": 9,
     "metadata": {},
     "output_type": "execute_result"
    }
   ],
   "source": [
    "full_train_df, test_df = train_test_split(bm_df, test_size=0.2, random_state=42)\n",
    "train_df, val_df = train_test_split(full_train_df, test_size=0.25, random_state=42)\n",
    "(len(train_df), len(val_df), len(test_df))"
   ]
  },
  {
   "cell_type": "code",
   "execution_count": 10,
   "id": "9d53e134-27ca-4a59-ae7c-e0ac9db1c2bf",
   "metadata": {},
   "outputs": [],
   "source": [
    "full_train_y = full_train_df.converted\n",
    "test_y = test_df.converted\n",
    "train_y = train_df.converted\n",
    "val_y = val_df.converted\n",
    "del full_train_df['converted']\n",
    "del test_df['converted']\n",
    "del train_df['converted']\n",
    "del val_df['converted']"
   ]
  },
  {
   "cell_type": "markdown",
   "id": "604c52e3-d76f-447e-bf0f-fbb04a088f73",
   "metadata": {},
   "source": [
    "## Question 3\n",
    "Which variable has the highest mutual information score?"
   ]
  },
  {
   "cell_type": "code",
   "execution_count": 11,
   "id": "129d9006-6de4-4214-a075-281b0c360e75",
   "metadata": {},
   "outputs": [
    {
     "data": {
      "text/plain": [
       "lead_source          0.04\n",
       "industry             0.01\n",
       "employment_status    0.01\n",
       "location             0.00\n",
       "dtype: float64"
      ]
     },
     "execution_count": 11,
     "metadata": {},
     "output_type": "execute_result"
    }
   ],
   "source": [
    "train_df[categorical_cols].apply(lambda col: mutual_info_score(col, train_y)).map(lambda score: round(score, 2)).sort_values(ascending=False)"
   ]
  },
  {
   "cell_type": "markdown",
   "id": "5cb6cbf2-5414-4564-ae0d-aa3eb273ce8a",
   "metadata": {},
   "source": [
    "## Question 4\n",
    "Train a logistic regression with one-hot encoding.\n",
    "For repeatability, use the following parameters:\n",
    "```py\n",
    "model = LogisticRegression(solver='liblinear', C=1.0, max_iter=1000, random_state=42)\n",
    "```\n",
    "What is the accuracy?"
   ]
  },
  {
   "cell_type": "code",
   "execution_count": 12,
   "id": "41674e77-f3d4-4dc1-80df-179893479e32",
   "metadata": {},
   "outputs": [],
   "source": [
    "def train_log_reg(tr_df, tr_y, v_df, v_y, cols, C=1.0):\n",
    "    dv = DictVectorizer(sparse=False)\n",
    "    train_dict = tr_df[cols].to_dict(orient='records')\n",
    "    val_dict = v_df[cols].to_dict(orient='records')\n",
    "\n",
    "    train_X = dv.fit_transform(train_dict)\n",
    "    val_X = dv.transform(val_dict)\n",
    "\n",
    "    model = LogisticRegression(\n",
    "        solver='liblinear',\n",
    "        C=C,\n",
    "        max_iter=1000,\n",
    "        random_state=42)\n",
    "    model.fit(train_X, tr_y)\n",
    "    \n",
    "    pred_y = model.predict_proba(val_X)[:, 1]\n",
    "    pred_converted = (pred_y >= 0.5)\n",
    "\n",
    "    return (v_y == pred_converted).mean()"
   ]
  },
  {
   "cell_type": "code",
   "execution_count": 13,
   "id": "9de6e9ed-3e15-49e0-a84c-e9aac913f2da",
   "metadata": {},
   "outputs": [
    {
     "data": {
      "text/plain": [
       "np.float64(0.7)"
      ]
     },
     "execution_count": 13,
     "metadata": {},
     "output_type": "execute_result"
    }
   ],
   "source": [
    "round(\n",
    "    train_log_reg(\n",
    "        train_df,\n",
    "        train_y,\n",
    "        val_df,\n",
    "        val_y,\n",
    "        categorical_cols + numeric_cols),\n",
    "    2)"
   ]
  },
  {
   "cell_type": "markdown",
   "id": "ab0381d8-2bdc-4890-a58a-98605f76f03e",
   "metadata": {},
   "source": [
    "## Question 5\n",
    "Find the least useful feature using the _feature elimination_ technique.\n",
    "Which feature has the smallest difference?"
   ]
  },
  {
   "cell_type": "code",
   "execution_count": 14,
   "id": "cb8a994e-023e-481b-b00c-81dc4234e4c3",
   "metadata": {},
   "outputs": [
    {
     "data": {
      "text/html": [
       "<div>\n",
       "<style scoped>\n",
       "    .dataframe tbody tr th:only-of-type {\n",
       "        vertical-align: middle;\n",
       "    }\n",
       "\n",
       "    .dataframe tbody tr th {\n",
       "        vertical-align: top;\n",
       "    }\n",
       "\n",
       "    .dataframe thead th {\n",
       "        text-align: right;\n",
       "    }\n",
       "</style>\n",
       "<table border=\"1\" class=\"dataframe\">\n",
       "  <thead>\n",
       "    <tr style=\"text-align: right;\">\n",
       "      <th></th>\n",
       "      <th>excluded_feature</th>\n",
       "      <th>score</th>\n",
       "    </tr>\n",
       "  </thead>\n",
       "  <tbody>\n",
       "    <tr>\n",
       "      <th>1</th>\n",
       "      <td>industry</td>\n",
       "      <td>0.000000</td>\n",
       "    </tr>\n",
       "    <tr>\n",
       "      <th>2</th>\n",
       "      <td>employment_status</td>\n",
       "      <td>0.003413</td>\n",
       "    </tr>\n",
       "    <tr>\n",
       "      <th>0</th>\n",
       "      <td>lead_source</td>\n",
       "      <td>0.003413</td>\n",
       "    </tr>\n",
       "    <tr>\n",
       "      <th>7</th>\n",
       "      <td>lead_score</td>\n",
       "      <td>0.006826</td>\n",
       "    </tr>\n",
       "    <tr>\n",
       "      <th>3</th>\n",
       "      <td>location</td>\n",
       "      <td>0.010239</td>\n",
       "    </tr>\n",
       "    <tr>\n",
       "      <th>4</th>\n",
       "      <td>number_of_courses_viewed</td>\n",
       "      <td>0.143345</td>\n",
       "    </tr>\n",
       "    <tr>\n",
       "      <th>6</th>\n",
       "      <td>interaction_count</td>\n",
       "      <td>0.143345</td>\n",
       "    </tr>\n",
       "    <tr>\n",
       "      <th>5</th>\n",
       "      <td>annual_income</td>\n",
       "      <td>0.153584</td>\n",
       "    </tr>\n",
       "  </tbody>\n",
       "</table>\n",
       "</div>"
      ],
      "text/plain": [
       "           excluded_feature     score\n",
       "1                  industry  0.000000\n",
       "2         employment_status  0.003413\n",
       "0               lead_source  0.003413\n",
       "7                lead_score  0.006826\n",
       "3                  location  0.010239\n",
       "4  number_of_courses_viewed  0.143345\n",
       "6         interaction_count  0.143345\n",
       "5             annual_income  0.153584"
      ]
     },
     "execution_count": 14,
     "metadata": {},
     "output_type": "execute_result"
    }
   ],
   "source": [
    "cols = categorical_cols + numeric_cols\n",
    "orig_score = train_log_reg(\n",
    "    train_df,\n",
    "    train_y,\n",
    "    val_df,\n",
    "    val_y,\n",
    "    cols)\n",
    "\n",
    "results = []\n",
    "\n",
    "for col in cols:\n",
    "    results.append((\n",
    "        col,\n",
    "        abs(orig_score - train_log_reg(\n",
    "            train_df,\n",
    "            train_y,\n",
    "            val_df,\n",
    "            val_y,\n",
    "            [c for c in cols if c != col]))))\n",
    "\n",
    "pd.DataFrame(results, columns=['excluded_feature', 'score']).sort_values(by='score')\n"
   ]
  },
  {
   "cell_type": "markdown",
   "id": "147cf840-21ba-43fe-89e2-98b493dacca3",
   "metadata": {},
   "source": [
    "## Question 6\n",
    "Which of the `C` values leads to the best accuracy on the validation set?"
   ]
  },
  {
   "cell_type": "code",
   "execution_count": 15,
   "id": "fd7fe7ae-c33f-4c96-b4d4-764f18b4998f",
   "metadata": {},
   "outputs": [
    {
     "data": {
      "text/html": [
       "<div>\n",
       "<style scoped>\n",
       "    .dataframe tbody tr th:only-of-type {\n",
       "        vertical-align: middle;\n",
       "    }\n",
       "\n",
       "    .dataframe tbody tr th {\n",
       "        vertical-align: top;\n",
       "    }\n",
       "\n",
       "    .dataframe thead th {\n",
       "        text-align: right;\n",
       "    }\n",
       "</style>\n",
       "<table border=\"1\" class=\"dataframe\">\n",
       "  <thead>\n",
       "    <tr style=\"text-align: right;\">\n",
       "      <th></th>\n",
       "      <th>C</th>\n",
       "      <th>score</th>\n",
       "    </tr>\n",
       "  </thead>\n",
       "  <tbody>\n",
       "    <tr>\n",
       "      <th>0</th>\n",
       "      <td>0.01</td>\n",
       "      <td>0.7</td>\n",
       "    </tr>\n",
       "    <tr>\n",
       "      <th>1</th>\n",
       "      <td>0.10</td>\n",
       "      <td>0.7</td>\n",
       "    </tr>\n",
       "    <tr>\n",
       "      <th>2</th>\n",
       "      <td>1.00</td>\n",
       "      <td>0.7</td>\n",
       "    </tr>\n",
       "    <tr>\n",
       "      <th>3</th>\n",
       "      <td>10.00</td>\n",
       "      <td>0.7</td>\n",
       "    </tr>\n",
       "    <tr>\n",
       "      <th>4</th>\n",
       "      <td>100.00</td>\n",
       "      <td>0.7</td>\n",
       "    </tr>\n",
       "  </tbody>\n",
       "</table>\n",
       "</div>"
      ],
      "text/plain": [
       "        C  score\n",
       "0    0.01    0.7\n",
       "1    0.10    0.7\n",
       "2    1.00    0.7\n",
       "3   10.00    0.7\n",
       "4  100.00    0.7"
      ]
     },
     "execution_count": 15,
     "metadata": {},
     "output_type": "execute_result"
    }
   ],
   "source": [
    "cols = categorical_cols + numeric_cols\n",
    "c_vals = [0.01, 0.1, 1, 10, 100]\n",
    "\n",
    "results = []\n",
    "\n",
    "for c in c_vals:\n",
    "    results.append((\n",
    "        c,\n",
    "        round(train_log_reg(\n",
    "            train_df,\n",
    "            train_y,\n",
    "            val_df,\n",
    "            val_y,\n",
    "            cols,\n",
    "            C=c), 3)))\n",
    "\n",
    "pd.DataFrame(results, columns=['C', 'score']).sort_values(by='score', ascending=False)\n"
   ]
  },
  {
   "cell_type": "code",
   "execution_count": null,
   "id": "c0199d60-c293-43aa-b36a-2c35026e582a",
   "metadata": {},
   "outputs": [],
   "source": []
  }
 ],
 "metadata": {
  "kernelspec": {
   "display_name": "Python 3 (ipykernel)",
   "language": "python",
   "name": "python3"
  },
  "language_info": {
   "codemirror_mode": {
    "name": "ipython",
    "version": 3
   },
   "file_extension": ".py",
   "mimetype": "text/x-python",
   "name": "python",
   "nbconvert_exporter": "python",
   "pygments_lexer": "ipython3",
   "version": "3.13.7"
  }
 },
 "nbformat": 4,
 "nbformat_minor": 5
}
